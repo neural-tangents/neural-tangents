{
 "cells": [
  {
   "cell_type": "markdown",
   "metadata": {
    "colab_type": "text",
    "id": "view-in-github"
   },
   "source": [
    "<a href=\"https://colab.research.google.com/github/neural-tangents/neural-tangents/blob/master/notebooks/function_space_linearization.ipynb\" target=\"_parent\"><img src=\"https://colab.research.google.com/assets/colab-badge.svg\" alt=\"Open In Colab\"/></a>"
   ]
  },
  {
   "cell_type": "markdown",
   "metadata": {
    "colab_type": "text",
    "id": "YDnknGorgv2O",
    "pycharm": {}
   },
   "source": [
    "Copyright 2019 The Neural Tangents Authors.  All rights reserved."
   ]
  },
  {
   "cell_type": "markdown",
   "metadata": {
    "colab_type": "text",
    "id": "8KPv0bOW6UCi",
    "pycharm": {}
   },
   "source": [
    "#### Import & Utils"
   ]
  },
  {
   "cell_type": "markdown",
   "metadata": {
    "colab_type": "text",
    "id": "cxFbqXZKhGW0",
    "pycharm": {}
   },
   "source": [
    "Install JAX, Tensorflow Datasets, and Neural Tangents. \n",
    "\n",
    "The first line specifies the version of jaxlib that we would like to import. Note, that \"cp36\" species the version of python (version 3.6) used by JAX. Make sure your colab kernel matches this version."
   ]
  },
  {
   "cell_type": "code",
   "execution_count": 0,
   "metadata": {
    "colab": {},
    "colab_type": "code",
    "id": "g_gSbMyUhF92",
    "pycharm": {}
   },
   "outputs": [],
   "source": [
    "!pip install -q tensorflow-datasets\n",
    "!pip install -q git+https://www.github.com/neural-tangents/neural-tangents"
   ]
  },
  {
   "cell_type": "markdown",
   "metadata": {
    "colab_type": "text",
    "id": "knIftr57X055",
    "pycharm": {}
   },
   "source": [
    "Import libraries"
   ]
  },
  {
   "cell_type": "code",
   "execution_count": 0,
   "metadata": {
    "colab": {},
    "colab_type": "code",
    "id": "8D0i89hRmNoC",
    "pycharm": {}
   },
   "outputs": [],
   "source": [
    "from __future__ import absolute_import\n",
    "from __future__ import division\n",
    "from __future__ import print_function\n",
    "\n",
    "from jax.api import jit\n",
    "from jax.api import grad\n",
    "from jax import random\n",
    "\n",
    "import jax.numpy as np\n",
    "from jax.experimental.stax import logsoftmax\n",
    "from jax.experimental import optimizers\n",
    "\n",
    "import tensorflow_datasets as tfds\n",
    "\n",
    "\n",
    "\n",
    "import neural_tangents as nt\n",
    "from neural_tangents import stax"
   ]
  },
  {
   "cell_type": "markdown",
   "metadata": {
    "colab_type": "text",
    "id": "_bbZz-nWX4Hj",
    "pycharm": {}
   },
   "source": [
    "Define helper functions for processing data and defining a vanilla momentum optimizer"
   ]
  },
  {
   "cell_type": "code",
   "execution_count": 0,
   "metadata": {
    "colab": {},
    "colab_type": "code",
    "id": "-W1ws1B-6_vq",
    "pycharm": {}
   },
   "outputs": [],
   "source": [
    "def process_data(data_chunk):\n",
    "  \"\"\"Flatten the images and one-hot encode the labels.\"\"\"\n",
    "  image, label = data_chunk['image'], data_chunk['label']\n",
    "  \n",
    "  samples = image.shape[0]\n",
    "  image = np.array(np.reshape(image, (samples, -1)), dtype=np.float32)\n",
    "  image = (image - np.mean(image)) / np.std(image)\n",
    "  label = np.eye(10)[label]\n",
    "  \n",
    "  return {'image': image, 'label': label}"
   ]
  },
  {
   "cell_type": "code",
   "execution_count": 0,
   "metadata": {
    "colab": {},
    "colab_type": "code",
    "id": "Ik27L4izDK9s",
    "pycharm": {}
   },
   "outputs": [],
   "source": [
    "@optimizers.optimizer\n",
    "def momentum(learning_rate, momentum=0.9):\n",
    "  \"\"\"A standard momentum optimizer for testing.\n",
    "\n",
    "  Different from `jax.experimental.optimizers.momentum` (Nesterov).\n",
    "  \"\"\"\n",
    "  learning_rate = optimizers.make_schedule(learning_rate)\n",
    "  def init_fn(x0):\n",
    "    v0 = np.zeros_like(x0)\n",
    "    return x0, v0\n",
    "  def update_fn(i, g, state):\n",
    "    x, velocity = state\n",
    "    velocity = momentum * velocity + g\n",
    "    x = x - learning_rate(i) * velocity\n",
    "    return x, velocity\n",
    "  def get_params(state):\n",
    "    x, _ = state\n",
    "    return x\n",
    "  return init_fn, update_fn, get_params\n"
   ]
  },
  {
   "cell_type": "markdown",
   "metadata": {
    "colab_type": "text",
    "id": "32Wvhil9X8IK",
    "pycharm": {}
   },
   "source": [
    "# Function Space Linearization"
   ]
  },
  {
   "cell_type": "markdown",
   "metadata": {
    "colab_type": "text",
    "id": "JJ_zDKsKcDB-",
    "pycharm": {}
   },
   "source": [
    "Create MNIST data pipeline using TensorFlow Datasets."
   ]
  },
  {
   "cell_type": "code",
   "execution_count": 0,
   "metadata": {
    "colab": {},
    "colab_type": "code",
    "id": "5llaSqZW4Et3",
    "pycharm": {}
   },
   "outputs": [],
   "source": [
    "dataset_size = 64\n",
    "\n",
    "train = tfds.load('mnist', split=tfds.Split.TRAIN, batch_size=dataset_size)\n",
    "train = process_data(next(tfds.as_numpy(train)))\n",
    "\n",
    "test = tfds.load('mnist', split=tfds.Split.TEST, batch_size=dataset_size)\n",
    "test = process_data(next(tfds.as_numpy(test)))"
   ]
  },
  {
   "cell_type": "markdown",
   "metadata": {
    "colab_type": "text",
    "id": "Ajz_oTOw72v8",
    "pycharm": {}
   },
   "source": [
    "Setup some experiment parameters."
   ]
  },
  {
   "cell_type": "code",
   "execution_count": 0,
   "metadata": {
    "colab": {},
    "colab_type": "code",
    "id": "UtjfeaYC72Gs",
    "pycharm": {}
   },
   "outputs": [],
   "source": [
    "learning_rate = 1e0\n",
    "training_time = 1000.0\n",
    "print_every = 100.0"
   ]
  },
  {
   "cell_type": "markdown",
   "metadata": {
    "colab_type": "text",
    "id": "1-nKR--j5p2C",
    "pycharm": {}
   },
   "source": [
    "Create a Fully-Connected Network."
   ]
  },
  {
   "cell_type": "code",
   "execution_count": 0,
   "metadata": {
    "colab": {},
    "colab_type": "code",
    "id": "wIbfrdzq5pLZ",
    "pycharm": {}
   },
   "outputs": [],
   "source": [
    "init_fn, f, _ = stax.serial(\n",
    "    stax.Dense(2048, 1., 0.05), \n",
    "    stax.Erf(),\n",
    "    stax.Dense(10, 1., 0.05))\n",
    "\n",
    "key = random.PRNGKey(0)\n",
    "_, params = init_fn(key, (-1, 784))"
   ]
  },
  {
   "cell_type": "markdown",
   "metadata": {
    "colab_type": "text",
    "id": "c9zgKt9B8NBt",
    "pycharm": {}
   },
   "source": [
    "Construct the NTK."
   ]
  },
  {
   "cell_type": "code",
   "execution_count": 0,
   "metadata": {
    "colab": {},
    "colab_type": "code",
    "id": "bU6ccJM_8LWt",
    "pycharm": {}
   },
   "outputs": [],
   "source": [
    "ntk = nt.batch(nt.empirical_ntk_fn(f), batch_size=16, device_count=0)\n",
    "\n",
    "g_dd = ntk(train['image'], None, params)\n",
    "g_td = ntk(test['image'], train['image'], params)"
   ]
  },
  {
   "cell_type": "markdown",
   "metadata": {
    "colab_type": "text",
    "id": "jdR-lIW11Vbj",
    "pycharm": {}
   },
   "source": [
    "Now that we have the NTK and a network we can compare against a number of different dynamics. Remember to reinitialize the network and NTK if you want to try a different dynamics."
   ]
  },
  {
   "cell_type": "markdown",
   "metadata": {
    "colab_type": "text",
    "id": "hVesciX61bGb",
    "pycharm": {}
   },
   "source": [
    "## Gradient Descent, MSE Loss"
   ]
  },
  {
   "cell_type": "markdown",
   "metadata": {
    "colab_type": "text",
    "id": "Lrp9YNCt7nCj",
    "pycharm": {}
   },
   "source": [
    "Create a optimizer and initialize it."
   ]
  },
  {
   "cell_type": "code",
   "execution_count": 0,
   "metadata": {
    "colab": {},
    "colab_type": "code",
    "id": "J-8i_4KD7o5s",
    "pycharm": {}
   },
   "outputs": [],
   "source": [
    "opt_init, opt_apply, get_params = optimizers.sgd(learning_rate)\n",
    "state = opt_init(params)"
   ]
  },
  {
   "cell_type": "markdown",
   "metadata": {
    "colab_type": "text",
    "id": "NspVdDOU8mhk",
    "pycharm": {}
   },
   "source": [
    "Create an MSE loss and a gradient."
   ]
  },
  {
   "cell_type": "code",
   "execution_count": 0,
   "metadata": {
    "colab": {},
    "colab_type": "code",
    "id": "z6L-LzyF8qLW",
    "pycharm": {}
   },
   "outputs": [],
   "source": [
    "loss = lambda fx, y_hat: 0.5 * np.mean((fx - y_hat) ** 2)\n",
    "grad_loss = jit(grad(lambda params, x, y: loss(f(params, x), y)))"
   ]
  },
  {
   "cell_type": "markdown",
   "metadata": {
    "colab_type": "text",
    "id": "f57Teh1317hn",
    "pycharm": {}
   },
   "source": [
    "Create an MSE predictor and compute the function space values of the network at initialization."
   ]
  },
  {
   "cell_type": "code",
   "execution_count": 0,
   "metadata": {
    "colab": {},
    "colab_type": "code",
    "id": "7UH_uOxz16w2",
    "pycharm": {}
   },
   "outputs": [],
   "source": [
    "predictor = nt.predict.gradient_descent_mse(g_dd, train['label'])\n",
    "fx_train = f(params, train['image'])"
   ]
  },
  {
   "cell_type": "markdown",
   "metadata": {
    "colab_type": "text",
    "id": "rWROOyCZ9u6N",
    "pycharm": {}
   },
   "source": [
    "Train the network."
   ]
  },
  {
   "cell_type": "code",
   "execution_count": 0,
   "metadata": {
    "colab": {
     "height": 204
    },
    "colab_type": "code",
    "executionInfo": {
     "elapsed": 2306,
     "status": "ok",
     "timestamp": 1568592330417,
     "user": {
      "displayName": "",
      "photoUrl": "",
      "userId": ""
     },
     "user_tz": 420
    },
    "id": "WXeof-AB8BiV",
    "outputId": "fd77344e-2340-4031-b689-fc9c2c5f9966",
    "pycharm": {}
   },
   "outputs": [
    {
     "name": "stdout",
     "output_type": "stream",
     "text": [
      "Time\tLoss\tLinear Loss\n",
      "0.0\t0.2506\t0.2506\n",
      "100.0\t0.1119\t0.1120\n",
      "200.0\t0.0771\t0.0771\n",
      "300.0\t0.0586\t0.0585\n",
      "400.0\t0.0468\t0.0467\n",
      "500.0\t0.0386\t0.0385\n",
      "600.0\t0.0325\t0.0324\n",
      "700.0\t0.0278\t0.0276\n",
      "800.0\t0.0240\t0.0239\n",
      "900.0\t0.0210\t0.0208\n"
     ]
    }
   ],
   "source": [
    "print ('Time\\tLoss\\tLinear Loss')\n",
    "print_every_step = int(print_every // learning_rate)\n",
    "\n",
    "X, Y = train['image'], train['label']\n",
    "\n",
    "for i in range(int(training_time // learning_rate)):\n",
    "  params = get_params(state)\n",
    "  state = opt_apply(i, grad_loss(params, X, Y), state)\n",
    "  \n",
    "  if i % print_every_step == 0:\n",
    "    t = i * learning_rate\n",
    "    exact_loss = loss(f(params, X), Y)\n",
    "    linear_loss = loss(predictor(t, fx_train), Y)\n",
    "    print('{}\\t{:.4f}\\t{:.4f}'.format(t, exact_loss, linear_loss))\n",
    "    "
   ]
  },
  {
   "cell_type": "markdown",
   "metadata": {
    "colab_type": "text",
    "id": "gx65YR3A8_yd",
    "pycharm": {}
   },
   "source": [
    "## Gradient Descent, Cross Entropy Loss"
   ]
  },
  {
   "cell_type": "markdown",
   "metadata": {
    "colab_type": "text",
    "id": "8jEb5V9C8_yd",
    "pycharm": {}
   },
   "source": [
    "Create a optimizer and initialize it."
   ]
  },
  {
   "cell_type": "code",
   "execution_count": 0,
   "metadata": {
    "colab": {},
    "colab_type": "code",
    "id": "VKfuj6O88_ye",
    "pycharm": {}
   },
   "outputs": [],
   "source": [
    "opt_init, opt_apply, get_params = optimizers.sgd(learning_rate)\n",
    "state = opt_init(params)"
   ]
  },
  {
   "cell_type": "markdown",
   "metadata": {
    "colab_type": "text",
    "id": "hpWaHdvH8_yg",
    "pycharm": {}
   },
   "source": [
    "Create an Cross Entropy loss and a gradient."
   ]
  },
  {
   "cell_type": "code",
   "execution_count": 0,
   "metadata": {
    "colab": {},
    "colab_type": "code",
    "id": "zQ03wQ7O8_yh",
    "pycharm": {}
   },
   "outputs": [],
   "source": [
    "loss = lambda fx, y_hat: -np.mean(logsoftmax(fx) * y_hat)\n",
    "grad_loss = jit(grad(lambda params, x, y: loss(f(params, x), y)))"
   ]
  },
  {
   "cell_type": "markdown",
   "metadata": {
    "colab_type": "text",
    "id": "WgS4k3878_yi",
    "pycharm": {}
   },
   "source": [
    "Create a Gradient Descent predictor and compute the function space values of the network at initialization."
   ]
  },
  {
   "cell_type": "code",
   "execution_count": 0,
   "metadata": {
    "colab": {},
    "colab_type": "code",
    "id": "h2uIi4mQ8_yi",
    "pycharm": {}
   },
   "outputs": [],
   "source": [
    "predictor = nt.predict.gradient_descent(g_dd, train['label'], loss)\n",
    "fx_train = f(params, train['image'])"
   ]
  },
  {
   "cell_type": "markdown",
   "metadata": {
    "colab_type": "text",
    "id": "tRh7Ur9Y8_yj",
    "pycharm": {}
   },
   "source": [
    "Train the network."
   ]
  },
  {
   "cell_type": "code",
   "execution_count": 0,
   "metadata": {
    "colab": {
     "height": 204
    },
    "colab_type": "code",
    "executionInfo": {
     "elapsed": 11096,
     "status": "ok",
     "timestamp": 1568592342449,
     "user": {
      "displayName": "",
      "photoUrl": "",
      "userId": ""
     },
     "user_tz": 420
    },
    "id": "FnW6DNWf8_yj",
    "outputId": "7251c518-ca64-4566-d46c-e99f9eab461c",
    "pycharm": {}
   },
   "outputs": [
    {
     "name": "stdout",
     "output_type": "stream",
     "text": [
      "Time\tLoss\tLinear Loss\n",
      "0\t0.1647\t0.1647\n",
      "100\t0.1437\t0.1437\n",
      "200\t0.1268\t0.1270\n",
      "300\t0.1133\t0.1137\n",
      "400\t0.1021\t0.1028\n",
      "500\t0.0927\t0.0938\n",
      "600\t0.0848\t0.0861\n",
      "700\t0.0779\t0.0794\n",
      "800\t0.0719\t0.0736\n",
      "900\t0.0666\t0.0685\n"
     ]
    }
   ],
   "source": [
    "print ('Time\\tLoss\\tLinear Loss')\n",
    "print_every_step = int(print_every // learning_rate)\n",
    "\n",
    "X, Y = train['image'], train['label']\n",
    "\n",
    "for i in range(int(training_time // learning_rate)):\n",
    "  params = get_params(state)\n",
    "  state = opt_apply(i, grad_loss(params, X, Y), state)\n",
    "  \n",
    "  if i % print_every_step == 0:\n",
    "    t = i * learning_rate\n",
    "    exact_loss = loss(f(params, X), Y)\n",
    "    linear_loss = loss(predictor(t, fx_train), Y)\n",
    "    print('{:.0f}\\t{:.4f}\\t{:.4f}'.format(t, exact_loss, linear_loss))\n",
    "    "
   ]
  },
  {
   "cell_type": "markdown",
   "metadata": {
    "colab_type": "text",
    "id": "vc2FaYtEDBJ_",
    "pycharm": {}
   },
   "source": [
    "## Momentum, Cross Entropy Loss"
   ]
  },
  {
   "cell_type": "markdown",
   "metadata": {
    "colab_type": "text",
    "id": "L4onegU1DBKA",
    "pycharm": {}
   },
   "source": [
    "Create a optimizer and initialize it."
   ]
  },
  {
   "cell_type": "code",
   "execution_count": 0,
   "metadata": {
    "colab": {},
    "colab_type": "code",
    "id": "cxoiw-DADBKB",
    "pycharm": {}
   },
   "outputs": [],
   "source": [
    "opt_init, opt_apply, get_params = momentum(learning_rate, 0.9)\n",
    "state = opt_init(params)"
   ]
  },
  {
   "cell_type": "markdown",
   "metadata": {
    "colab_type": "text",
    "id": "63VJ8y9FDBKE",
    "pycharm": {}
   },
   "source": [
    "Create a Cross Entropy loss and a gradient."
   ]
  },
  {
   "cell_type": "code",
   "execution_count": 0,
   "metadata": {
    "colab": {},
    "colab_type": "code",
    "id": "e8SxBiZXDBKE",
    "pycharm": {}
   },
   "outputs": [],
   "source": [
    "loss = lambda fx, y_hat: -np.mean(logsoftmax(fx) * y_hat)\n",
    "grad_loss = jit(grad(lambda params, x, y: loss(f(params, x), y)))"
   ]
  },
  {
   "cell_type": "markdown",
   "metadata": {
    "colab_type": "text",
    "id": "t7GiiW-LDBKI",
    "pycharm": {}
   },
   "source": [
    "Create a momentum predictor and initialize it."
   ]
  },
  {
   "cell_type": "code",
   "execution_count": 0,
   "metadata": {
    "colab": {},
    "colab_type": "code",
    "id": "8fpKKqPaDBKJ",
    "pycharm": {}
   },
   "outputs": [],
   "source": [
    "pred_init, predictor, get = nt.predict.momentum(\n",
    "    g_dd, train['label'], loss, learning_rate)\n",
    "fx_train = f(params, train['image'])\n",
    "pred_state = pred_init(fx_train)"
   ]
  },
  {
   "cell_type": "markdown",
   "metadata": {
    "colab_type": "text",
    "id": "jW9ws4fMDBKL",
    "pycharm": {}
   },
   "source": [
    "Train the network."
   ]
  },
  {
   "cell_type": "code",
   "execution_count": 0,
   "metadata": {
    "colab": {
     "height": 85
    },
    "colab_type": "code",
    "executionInfo": {
     "elapsed": 10658,
     "status": "ok",
     "timestamp": 1568592354081,
     "user": {
      "displayName": "",
      "photoUrl": "",
      "userId": ""
     },
     "user_tz": 420
    },
    "id": "_pfseUitDBKM",
    "outputId": "bccbfec9-d354-4311-8493-63400c5729a1",
    "pycharm": {}
   },
   "outputs": [
    {
     "name": "stdout",
     "output_type": "stream",
     "text": [
      "Time\tLoss\tLinear Loss\n",
      "0\t0.0620\t0.0620\n",
      "100\t0.0357\t0.0382\n",
      "200\t0.0233\t0.0253\n"
     ]
    }
   ],
   "source": [
    "print ('Time\\tLoss\\tLinear Loss')\n",
    "print_every_step = int(print_every // np.sqrt(learning_rate))\n",
    "\n",
    "X, Y = train['image'], train['label']\n",
    "\n",
    "for i in range(int(300.0 // np.sqrt(learning_rate))):\n",
    "  params = get_params(state)\n",
    "  state = opt_apply(i, grad_loss(params, X, Y), state)\n",
    "  \n",
    "  if i % print_every_step == 0:\n",
    "    t = i * np.sqrt(learning_rate)\n",
    "    exact_loss = loss(f(params, X), Y)\n",
    "    linear_loss = loss(get(predictor(pred_state, t)), Y)\n",
    "    print('{:.0f}\\t{:.4f}\\t{:.4f}'.format(t, exact_loss, linear_loss))\n",
    "    "
   ]
  }
 ],
 "metadata": {
  "accelerator": "GPU",
  "colab": {
   "collapsed_sections": [],
   "last_runtime": {

   },
   "name": "Function Space Linearization.ipynb",
   "provenance": [],
   "version": "0.3.2"
  },
  "kernelspec": {
   "display_name": "Python 3",
   "language": "python",
   "name": "python3"
  }
 },
 "nbformat": 4,
 "nbformat_minor": 1
}
