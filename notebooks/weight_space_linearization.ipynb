{
 "cells": [
  {
   "cell_type": "markdown",
   "metadata": {
    "colab_type": "text",
    "id": "view-in-github"
   },
   "source": [
    "<a href=\"https://colab.research.google.com/github/neural-tangents/neural-tangents/blob/master/notebooks/weight_space_linearization.ipynb\" target=\"_parent\"><img src=\"https://colab.research.google.com/assets/colab-badge.svg\" alt=\"Open In Colab\"/></a>"
   ]
  },
  {
   "cell_type": "markdown",
   "metadata": {
    "colab_type": "text",
    "id": "YDnknGorgv2O",
    "pycharm": {}
   },
   "source": [
    "Copyright 2019 The Neural Tangents Authors.  All rights reserved."
   ]
  },
  {
   "cell_type": "markdown",
   "metadata": {
    "colab_type": "text",
    "id": "2D2hQ1z3kmNu",
    "pycharm": {}
   },
   "source": [
    "#### Import & Utils"
   ]
  },
  {
   "cell_type": "markdown",
   "metadata": {
    "colab_type": "text",
    "id": "cxFbqXZKhGW0",
    "pycharm": {}
   },
   "source": [
    "Install JAX, Tensorflow Datasets, and Neural Tangents\n",
    "\n",
    "The first line specifies the version of jaxlib that we would like to import. Note, that \"cp36\" species the version of python (version 3.6) used by JAX. Make sure your colab kernel matches this version."
   ]
  },
  {
   "cell_type": "code",
   "execution_count": 0,
   "metadata": {
    "colab": {},
    "colab_type": "code",
    "id": "g_gSbMyUhF92",
    "pycharm": {}
   },
   "outputs": [],
   "source": [
    "!pip install -q tensorflow-datasets\n",
    "!pip install -q git+https://www.github.com/neural-tangents/neural-tangents"
   ]
  },
  {
   "cell_type": "code",
   "execution_count": 0,
   "metadata": {
    "colab": {},
    "colab_type": "code",
    "id": "8D0i89hRmNoC",
    "pycharm": {}
   },
   "outputs": [],
   "source": [
    "from __future__ import absolute_import\n",
    "from __future__ import division\n",
    "from __future__ import print_function\n",
    "\n",
    "from jax.api import jit\n",
    "from jax.api import grad\n",
    "from jax import random\n",
    "\n",
    "import jax.numpy as np\n",
    "from jax.experimental.stax import logsoftmax\n",
    "from jax.experimental import optimizers\n",
    "\n",
    "import tensorflow_datasets as tfds\n",
    "\n",
    "\n",
    "\n",
    "\n",
    "import neural_tangents as nt\n",
    "from neural_tangents import stax"
   ]
  },
  {
   "cell_type": "code",
   "execution_count": 0,
   "metadata": {
    "colab": {},
    "colab_type": "code",
    "id": "-W1ws1B-6_vq",
    "pycharm": {}
   },
   "outputs": [],
   "source": [
    "def process_data(data_chunk):\n",
    "  \"\"\"Flatten the images and one-hot encode the labels.\"\"\"\n",
    "  image, label = data_chunk['image'], data_chunk['label']\n",
    "  \n",
    "  samples = image.shape[0]\n",
    "  image = np.array(np.reshape(image, (samples, -1)), dtype=np.float32)\n",
    "  image = (image - np.mean(image)) / np.std(image)\n",
    "  label = np.eye(10)[label]\n",
    "  \n",
    "  return {'image': image, 'label': label}"
   ]
  },
  {
   "cell_type": "markdown",
   "metadata": {
    "colab_type": "text",
    "id": "32Wvhil9X8IK",
    "pycharm": {}
   },
   "source": [
    "# Weight Space Linearization"
   ]
  },
  {
   "cell_type": "markdown",
   "metadata": {
    "colab_type": "text",
    "id": "Ajz_oTOw72v8",
    "pycharm": {}
   },
   "source": [
    "Setup some experiment parameters."
   ]
  },
  {
   "cell_type": "code",
   "execution_count": 0,
   "metadata": {
    "colab": {},
    "colab_type": "code",
    "id": "UtjfeaYC72Gs",
    "pycharm": {}
   },
   "outputs": [],
   "source": [
    "learning_rate = 1.0\n",
    "batch_size = 128\n",
    "training_epochs = 10\n",
    "steps_per_epoch = 50000 // batch_size"
   ]
  },
  {
   "cell_type": "markdown",
   "metadata": {
    "colab_type": "text",
    "id": "JJ_zDKsKcDB-",
    "pycharm": {}
   },
   "source": [
    "Create MNIST data pipeline using TensorFlow Datasets."
   ]
  },
  {
   "cell_type": "code",
   "execution_count": 0,
   "metadata": {
    "colab": {},
    "colab_type": "code",
    "id": "5llaSqZW4Et3",
    "pycharm": {}
   },
   "outputs": [],
   "source": [
    "train_data = tfds.load('mnist', split=tfds.Split.TRAIN)\n",
    "train_data = tfds.as_numpy(\n",
    "    train_data.shuffle(1024).batch(batch_size).repeat(training_epochs))\n",
    "test_data = tfds.load('mnist', split=tfds.Split.TEST)"
   ]
  },
  {
   "cell_type": "markdown",
   "metadata": {
    "colab_type": "text",
    "id": "1-nKR--j5p2C",
    "pycharm": {}
   },
   "source": [
    "Create a Fully-Connected Network."
   ]
  },
  {
   "cell_type": "code",
   "execution_count": 0,
   "metadata": {
    "colab": {},
    "colab_type": "code",
    "id": "wIbfrdzq5pLZ",
    "pycharm": {}
   },
   "outputs": [],
   "source": [
    "init_fn, f, _ = stax.serial(\n",
    "    stax.Dense(2048, 1., 0.05), \n",
    "    stax.Erf(),\n",
    "    stax.Dense(10, 1., 0.05))\n",
    "\n",
    "key = random.PRNGKey(0)\n",
    "_, params = init_fn(key, (-1, 784))"
   ]
  },
  {
   "cell_type": "markdown",
   "metadata": {
    "colab_type": "text",
    "id": "c9zgKt9B8NBt",
    "pycharm": {}
   },
   "source": [
    "Linearize the network."
   ]
  },
  {
   "cell_type": "code",
   "execution_count": 0,
   "metadata": {
    "colab": {},
    "colab_type": "code",
    "id": "bU6ccJM_8LWt",
    "pycharm": {}
   },
   "outputs": [],
   "source": [
    "f_lin = nt.linearize(f, params)"
   ]
  },
  {
   "cell_type": "markdown",
   "metadata": {
    "colab_type": "text",
    "id": "Lrp9YNCt7nCj",
    "pycharm": {}
   },
   "source": [
    "Create an optimizer and initialize it for the full network and the linearized network."
   ]
  },
  {
   "cell_type": "code",
   "execution_count": 0,
   "metadata": {
    "colab": {},
    "colab_type": "code",
    "id": "J-8i_4KD7o5s",
    "pycharm": {}
   },
   "outputs": [],
   "source": [
    "opt_init, opt_apply, get_params = optimizers.momentum(learning_rate, 0.9)\n",
    "\n",
    "state = opt_init(params)\n",
    "lin_state = opt_init(params)"
   ]
  },
  {
   "cell_type": "markdown",
   "metadata": {
    "colab_type": "text",
    "id": "NspVdDOU8mhk",
    "pycharm": {}
   },
   "source": [
    "Create a cross-entropy loss function."
   ]
  },
  {
   "cell_type": "code",
   "execution_count": 0,
   "metadata": {
    "colab": {},
    "colab_type": "code",
    "id": "z6L-LzyF8qLW",
    "pycharm": {}
   },
   "outputs": [],
   "source": [
    "loss = lambda fx, y_hat: -np.mean(logsoftmax(fx) * y_hat)"
   ]
  },
  {
   "cell_type": "markdown",
   "metadata": {
    "colab_type": "text",
    "id": "NHVIPtg79Gt4",
    "pycharm": {}
   },
   "source": [
    "Specialize the loss to compute gradients of the network and linearized network."
   ]
  },
  {
   "cell_type": "code",
   "execution_count": 0,
   "metadata": {
    "colab": {},
    "colab_type": "code",
    "id": "-Z5uKwva9NB9",
    "pycharm": {}
   },
   "outputs": [],
   "source": [
    "grad_loss = jit(grad(lambda params, x, y: loss(f(params, x), y)))\n",
    "grad_lin_loss = jit(grad(lambda params, x, y: loss(f_lin(params, x), y)))"
   ]
  },
  {
   "cell_type": "markdown",
   "metadata": {
    "colab_type": "text",
    "id": "rWROOyCZ9u6N",
    "pycharm": {}
   },
   "source": [
    "Train the network and its linearization."
   ]
  },
  {
   "cell_type": "code",
   "execution_count": 0,
   "metadata": {
    "colab": {
     "height": 255
    },
    "colab_type": "code",
    "executionInfo": {
     "elapsed": 108799,
     "status": "ok",
     "timestamp": 1568589927995,
     "user": {
      "displayName": "",
      "photoUrl": "",
      "userId": ""
     },
     "user_tz": 420
    },
    "id": "WXeof-AB8BiV",
    "outputId": "d12e1825-ef61-4fe9-f692-d907072a74c9",
    "pycharm": {}
   },
   "outputs": [
    {
     "name": "stdout",
     "output_type": "stream",
     "text": [
      "Epoch\tLoss\tLinear Loss\n",
      "0\t0.2371\t0.2371\n",
      "1\t0.1840\t0.1840\n",
      "2\t0.1667\t0.1667\n",
      "3\t0.1465\t0.1466\n",
      "4\t0.1104\t0.1105\n",
      "5\t0.1032\t0.1033\n",
      "6\t0.0859\t0.0860\n",
      "7\t0.0813\t0.0815\n",
      "8\t0.0772\t0.0774\n",
      "9\t0.0815\t0.0817\n",
      "10\t0.0698\t0.0701\n",
      "11\t0.0726\t0.0729\n",
      "12\t0.0598\t0.0602\n"
     ]
    }
   ],
   "source": [
    "print ('Epoch\\tLoss\\tLinear Loss')\n",
    "epoch = 0\n",
    "\n",
    "for i, batch in enumerate(train_data):\n",
    "  batch = process_data(batch)\n",
    "  X, Y = batch['image'], batch['label']\n",
    "  \n",
    "  params = get_params(state)\n",
    "  state = opt_apply(i, grad_loss(params, X, Y), state)\n",
    "\n",
    "  lin_params = get_params(lin_state)\n",
    "  lin_state = opt_apply(i, grad_lin_loss(lin_params, X, Y), lin_state)\n",
    "\n",
    "  if i % steps_per_epoch == 0:\n",
    "    print('{}\\t{:.4f}\\t{:.4f}'.format(\n",
    "        epoch, loss(f(params, X), Y), loss(f_lin(lin_params, X), Y)))\n",
    "    epoch += 1"
   ]
  }
 ],
 "metadata": {
  "accelerator": "GPU",
  "colab": {
   "collapsed_sections": [],
   "last_runtime": {
   },
   "name": "Weight Space Linearization.ipynb",
   "provenance": [],
   "version": "0.3.2"
  },
  "kernelspec": {
   "display_name": "Python 3",
   "language": "python",
   "name": "python3"
  }
 },
 "nbformat": 4,
 "nbformat_minor": 1
}
